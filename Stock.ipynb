{
 "cells": [
  {
   "cell_type": "markdown",
   "metadata": {},
   "source": [
    "## Aaron Brown, Teng Lin, Liu Jason Tan\n",
    "## ISE 390 \n",
    "## Project: Stock market prediction"
   ]
  },
  {
   "cell_type": "code",
   "execution_count": 2,
   "metadata": {},
   "outputs": [
    {
     "name": "stdout",
     "output_type": "stream",
     "text": [
      "0\n"
     ]
    },
    {
     "data": {
      "text/html": [
       "<div>\n",
       "<style scoped>\n",
       "    .dataframe tbody tr th:only-of-type {\n",
       "        vertical-align: middle;\n",
       "    }\n",
       "\n",
       "    .dataframe tbody tr th {\n",
       "        vertical-align: top;\n",
       "    }\n",
       "\n",
       "    .dataframe thead th {\n",
       "        text-align: right;\n",
       "    }\n",
       "</style>\n",
       "<table border=\"1\" class=\"dataframe\">\n",
       "  <thead>\n",
       "    <tr style=\"text-align: right;\">\n",
       "      <th></th>\n",
       "      <th>date</th>\n",
       "      <th>signal</th>\n",
       "      <th>spy_close_price</th>\n",
       "    </tr>\n",
       "  </thead>\n",
       "  <tbody>\n",
       "    <tr>\n",
       "      <th>0</th>\n",
       "      <td>20120103</td>\n",
       "      <td>3.107767</td>\n",
       "      <td>127.495</td>\n",
       "    </tr>\n",
       "    <tr>\n",
       "      <th>1</th>\n",
       "      <td>20120104</td>\n",
       "      <td>3.107282</td>\n",
       "      <td>127.700</td>\n",
       "    </tr>\n",
       "    <tr>\n",
       "      <th>2</th>\n",
       "      <td>20120105</td>\n",
       "      <td>3.099757</td>\n",
       "      <td>128.040</td>\n",
       "    </tr>\n",
       "    <tr>\n",
       "      <th>3</th>\n",
       "      <td>20120106</td>\n",
       "      <td>3.134223</td>\n",
       "      <td>127.710</td>\n",
       "    </tr>\n",
       "    <tr>\n",
       "      <th>4</th>\n",
       "      <td>20120109</td>\n",
       "      <td>3.135922</td>\n",
       "      <td>128.020</td>\n",
       "    </tr>\n",
       "  </tbody>\n",
       "</table>\n",
       "</div>"
      ],
      "text/plain": [
       "       date    signal  spy_close_price\n",
       "0  20120103  3.107767          127.495\n",
       "1  20120104  3.107282          127.700\n",
       "2  20120105  3.099757          128.040\n",
       "3  20120106  3.134223          127.710\n",
       "4  20120109  3.135922          128.020"
      ]
     },
     "execution_count": 2,
     "metadata": {},
     "output_type": "execute_result"
    }
   ],
   "source": [
    "%matplotlib inline\n",
    "import pandas as pd\n",
    "import numpy as np\n",
    "import datetime as dtime\n",
    "import matplotlib.pylab as plt\n",
    "\n",
    "#read in data\n",
    "filepath = 'data.csv'\n",
    "df = pd.read_csv(filepath)\n",
    "\n",
    "#checking weather there is nan values\n",
    "print(df.isnull().sum().sum())\n",
    "\n",
    "df.head()"
   ]
  },
  {
   "cell_type": "code",
   "execution_count": 3,
   "metadata": {},
   "outputs": [
    {
     "name": "stdout",
     "output_type": "stream",
     "text": [
      "Price - upper limit: 242.43 lower limit: 79.94999999999999\n",
      "Signal - upper limit: 5.8936579999999985 lower limit: 1.932738000000001\n"
     ]
    },
    {
     "data": {
      "text/plain": [
       "[Text(0,0,'Signal'), Text(0,0,'Price')]"
      ]
     },
     "execution_count": 3,
     "metadata": {},
     "output_type": "execute_result"
    },
    {
     "data": {
      "image/png": "[encoded data removed]",
      "text/plain": [
       "<matplotlib.figure.Figure at 0x7fa6c69a7240>"
      ]
     },
     "execution_count": 3,
     "metadata": {
      "image/png": {
       "height": 250,
       "width": 377
      }
     },
     "output_type": "execute_result"
    }
   ],
   "source": [
    "#//////////////////////////// price column ////////////////////////////\n",
    "# min = 127.495, max = 710.310, 25% = 140.880, 75% = 181.500\n",
    "# IQR = 181.500 - 140.880\n",
    "price_q3 = 181.500\n",
    "price_q1 = 140.880\n",
    "price_iqr = price_q3 - price_q1\n",
    "price_x = price_iqr*(1.5)\n",
    "price_upper = price_x + price_q3\n",
    "price_lower = price_q1 - price_x\n",
    "print('Price - upper limit:',price_upper,'lower limit:',price_lower)\n",
    "#boxplot_pri = df.boxplot(column=['spy_close_price'],grid=False, fontsize=12)\n",
    "\n",
    "\n",
    "#//////////////////////////// signal column ////////////////////////////\n",
    "# min = -3.802670, max = 432.961165, 25% = 3.418083, 75% = 4.408313\n",
    "# IQR = 4.408313 - 3.418083\n",
    "sig_q3 = 4.408313\n",
    "sig_q1 = 3.418083\n",
    "sig_iqr = sig_q3 - sig_q1\n",
    "sig_x = sig_iqr*(1.5)\n",
    "sig_upper = sig_x + sig_q3\n",
    "sig_lower = sig_q1 - sig_x\n",
    "print('Signal - upper limit:',sig_upper,'lower limit:',sig_lower)\n",
    "#boxplot_sig = df.boxplot(column=['signal'],grid=False, fontsize=12)\n",
    "\n",
    "\n",
    "sig = df['signal']\n",
    "pri = df['spy_close_price']\n",
    "\n",
    "data = [sig, pri]\n",
    "\n",
    "\n",
    "# Create a figure instance\n",
    "fig = plt.figure(1, figsize=(6, 4))\n",
    "\n",
    "# Create an axes instance\n",
    "ax = fig.add_subplot(111)\n",
    "\n",
    "# Create the boxplot\n",
    "bp = ax.boxplot(data)\n",
    "ax.set_xticklabels(['Signal', 'Price'])"
   ]
  },
  {
   "cell_type": "code",
   "execution_count": 4,
   "metadata": {},
   "outputs": [
    {
     "name": "stdout",
     "output_type": "stream",
     "text": [
      "         date    signal  spy_close_price\n",
      "663  20140826  4.866505           200.33\n",
      "666  20140829  4.868689           200.71\n",
      "421  20130912  4.193204           618.95\n",
      "422  20130913  4.143689           619.33\n",
      "423  20130916  4.124515           710.31\n",
      "       date    signal  spy_close_price\n",
      "0  20120103  3.107767          127.495\n",
      "1  20120104  3.107282          127.700\n",
      "3  20120106  3.134223          127.710\n",
      "4  20120109  3.135922          128.020\n",
      "2  20120105  3.099757          128.040\n"
     ]
    }
   ],
   "source": [
    "#sort the values of price to check outliers indexes.\n",
    "print(df.sort_values(by=['spy_close_price']).tail())\n",
    "print(df.sort_values(by=['spy_close_price']).head())\n",
    "## the last 3 prices are outliers with index of 421 422 423"
   ]
  },
  {
   "cell_type": "code",
   "execution_count": 5,
   "metadata": {},
   "outputs": [
    {
     "name": "stdout",
     "output_type": "stream",
     "text": [
      "         date      signal  spy_close_price\n",
      "662  20140825    4.869175           200.20\n",
      "661  20140822    4.871602           199.19\n",
      "665  20140828    4.881311           200.14\n",
      "459  20131105  429.514563           176.27\n",
      "460  20131106  432.961165           177.17\n",
      "         date    signal  spy_close_price\n",
      "303  20130326 -3.802670         156.1900\n",
      "570  20140414  0.004560         182.9401\n",
      "571  20140415  0.454976         184.2000\n",
      "572  20140416  0.455898         186.1250\n",
      "2    20120105  3.099757         128.0400\n"
     ]
    }
   ],
   "source": [
    "#sort the values of signals to check outliers indexes.\n",
    "print(df.sort_values(by=['signal']).tail())\n",
    "## the last 2 signals are outliers with index of 459 460\n",
    "print(df.sort_values(by=['signal']).head())\n",
    "## the first 4 signals are outliers with index of 303 570 571 572"
   ]
  },
  {
   "cell_type": "code",
   "execution_count": 6,
   "metadata": {},
   "outputs": [
    {
     "data": {
      "text/html": [
       "<div>\n",
       "<style scoped>\n",
       "    .dataframe tbody tr th:only-of-type {\n",
       "        vertical-align: middle;\n",
       "    }\n",
       "\n",
       "    .dataframe tbody tr th {\n",
       "        vertical-align: top;\n",
       "    }\n",
       "\n",
       "    .dataframe thead th {\n",
       "        text-align: right;\n",
       "    }\n",
       "</style>\n",
       "<table border=\"1\" class=\"dataframe\">\n",
       "  <thead>\n",
       "    <tr style=\"text-align: right;\">\n",
       "      <th></th>\n",
       "      <th>date</th>\n",
       "      <th>signal</th>\n",
       "      <th>spy_close_price</th>\n",
       "    </tr>\n",
       "  </thead>\n",
       "  <tbody>\n",
       "    <tr>\n",
       "      <th>count</th>\n",
       "      <td>6.580000e+02</td>\n",
       "      <td>658.000000</td>\n",
       "      <td>658.000000</td>\n",
       "    </tr>\n",
       "    <tr>\n",
       "      <th>mean</th>\n",
       "      <td>2.012933e+07</td>\n",
       "      <td>3.911967</td>\n",
       "      <td>160.824444</td>\n",
       "    </tr>\n",
       "    <tr>\n",
       "      <th>std</th>\n",
       "      <td>7.778235e+03</td>\n",
       "      <td>0.525500</td>\n",
       "      <td>21.488326</td>\n",
       "    </tr>\n",
       "    <tr>\n",
       "      <th>min</th>\n",
       "      <td>2.012010e+07</td>\n",
       "      <td>3.099757</td>\n",
       "      <td>127.495000</td>\n",
       "    </tr>\n",
       "    <tr>\n",
       "      <th>25%</th>\n",
       "      <td>2.012083e+07</td>\n",
       "      <td>3.419053</td>\n",
       "      <td>140.817500</td>\n",
       "    </tr>\n",
       "    <tr>\n",
       "      <th>50%</th>\n",
       "      <td>2.013050e+07</td>\n",
       "      <td>3.890291</td>\n",
       "      <td>159.245000</td>\n",
       "    </tr>\n",
       "    <tr>\n",
       "      <th>75%</th>\n",
       "      <td>2.013788e+07</td>\n",
       "      <td>4.409072</td>\n",
       "      <td>180.985000</td>\n",
       "    </tr>\n",
       "    <tr>\n",
       "      <th>max</th>\n",
       "      <td>2.014083e+07</td>\n",
       "      <td>4.881311</td>\n",
       "      <td>200.710000</td>\n",
       "    </tr>\n",
       "  </tbody>\n",
       "</table>\n",
       "</div>"
      ],
      "text/plain": [
       "               date      signal  spy_close_price\n",
       "count  6.580000e+02  658.000000       658.000000\n",
       "mean   2.012933e+07    3.911967       160.824444\n",
       "std    7.778235e+03    0.525500        21.488326\n",
       "min    2.012010e+07    3.099757       127.495000\n",
       "25%    2.012083e+07    3.419053       140.817500\n",
       "50%    2.013050e+07    3.890291       159.245000\n",
       "75%    2.013788e+07    4.409072       180.985000\n",
       "max    2.014083e+07    4.881311       200.710000"
      ]
     },
     "execution_count": 6,
     "metadata": {},
     "output_type": "execute_result"
    }
   ],
   "source": [
    "# drop all those outliers with respect to the indexes\n",
    "newdf = df.drop([421,422,423,459,460,303,570,571,572])\n",
    "newdf.describe()"
   ]
  },
  {
   "cell_type": "code",
   "execution_count": 7,
   "metadata": {},
   "outputs": [
    {
     "data": {
      "text/html": [
       "<div>\n",
       "<style scoped>\n",
       "    .dataframe tbody tr th:only-of-type {\n",
       "        vertical-align: middle;\n",
       "    }\n",
       "\n",
       "    .dataframe tbody tr th {\n",
       "        vertical-align: top;\n",
       "    }\n",
       "\n",
       "    .dataframe thead th {\n",
       "        text-align: right;\n",
       "    }\n",
       "</style>\n",
       "<table border=\"1\" class=\"dataframe\">\n",
       "  <thead>\n",
       "    <tr style=\"text-align: right;\">\n",
       "      <th></th>\n",
       "      <th>newdate</th>\n",
       "      <th>signal</th>\n",
       "      <th>spy_close_price</th>\n",
       "      <th>date</th>\n",
       "    </tr>\n",
       "  </thead>\n",
       "  <tbody>\n",
       "    <tr>\n",
       "      <th>0</th>\n",
       "      <td>0</td>\n",
       "      <td>3.107767</td>\n",
       "      <td>127.495</td>\n",
       "      <td>20120103</td>\n",
       "    </tr>\n",
       "    <tr>\n",
       "      <th>1</th>\n",
       "      <td>1</td>\n",
       "      <td>3.107282</td>\n",
       "      <td>127.700</td>\n",
       "      <td>20120104</td>\n",
       "    </tr>\n",
       "    <tr>\n",
       "      <th>2</th>\n",
       "      <td>2</td>\n",
       "      <td>3.099757</td>\n",
       "      <td>128.040</td>\n",
       "      <td>20120105</td>\n",
       "    </tr>\n",
       "    <tr>\n",
       "      <th>3</th>\n",
       "      <td>3</td>\n",
       "      <td>3.134223</td>\n",
       "      <td>127.710</td>\n",
       "      <td>20120106</td>\n",
       "    </tr>\n",
       "    <tr>\n",
       "      <th>4</th>\n",
       "      <td>4</td>\n",
       "      <td>3.135922</td>\n",
       "      <td>128.020</td>\n",
       "      <td>20120109</td>\n",
       "    </tr>\n",
       "  </tbody>\n",
       "</table>\n",
       "</div>"
      ],
      "text/plain": [
       "   newdate    signal  spy_close_price      date\n",
       "0        0  3.107767          127.495  20120103\n",
       "1        1  3.107282          127.700  20120104\n",
       "2        2  3.099757          128.040  20120105\n",
       "3        3  3.134223          127.710  20120106\n",
       "4        4  3.135922          128.020  20120109"
      ]
     },
     "execution_count": 7,
     "metadata": {},
     "output_type": "execute_result"
    }
   ],
   "source": [
    "# convert date to consecutive numnbers for easy graph\n",
    "newdf['newdate'] = range(0, len(newdf))\n",
    "newdf2 = newdf[['newdate', 'signal', 'spy_close_price', 'date']]\n",
    "newdf2.head()"
   ]
  },
  {
   "cell_type": "code",
   "execution_count": 8,
   "metadata": {},
   "outputs": [
    {
     "data": {
      "image/png": "[encoded data removed]",
      "text/plain": [
       "<matplotlib.figure.Figure at 0x7fa6c30eeac8>"
      ]
     },
     "execution_count": 8,
     "metadata": {
      "image/png": {
       "height": 277,
       "width": 390
      }
     },
     "output_type": "execute_result"
    }
   ],
   "source": [
    "# generate 2 list (signal and newdate) for graphing\n",
    "xlist = newdf2['spy_close_price']\n",
    "ylist = newdf2['newdate']\n",
    "sig = newdf2['signal']\n",
    "\n",
    "plt.plot(ylist, xlist)\n",
    "plt.title(\"date vs price\")\n",
    "plt.xlabel('date')\n",
    "plt.ylabel('price')\n",
    "plt.show()"
   ]
  },
  {
   "cell_type": "code",
   "execution_count": 9,
   "metadata": {},
   "outputs": [
    {
     "data": {
      "text/plain": [
       "array([[1.        , 0.99507762],\n",
       "       [0.99507762, 1.        ]])"
      ]
     },
     "execution_count": 9,
     "metadata": {},
     "output_type": "execute_result"
    }
   ],
   "source": [
    "# correlation between the signal and the price\n",
    "np.corrcoef(sig, xlist)"
   ]
  },
  {
   "cell_type": "code",
   "execution_count": 10,
   "metadata": {},
   "outputs": [
    {
     "data": {
      "image/png": "[encoded data removed]",
      "text/plain": [
       "<matplotlib.figure.Figure at 0x7fa6c30b03c8>"
      ]
     },
     "execution_count": 10,
     "metadata": {
      "image/png": {
       "height": 277,
       "width": 390
      }
     },
     "output_type": "execute_result"
    },
    {
     "data": {
      "text/plain": [
       "array([40.68990349,  1.64689066])"
      ]
     },
     "execution_count": 10,
     "metadata": {},
     "output_type": "execute_result"
    }
   ],
   "source": [
    "# generate 2 list (signal and price) for graphing\n",
    "xlist = newdf2['spy_close_price']\n",
    "ylist = newdf2['signal']\n",
    "\n",
    "# best fit line\n",
    "p = np.polyfit(ylist,xlist,1)\n",
    "\n",
    "plt.scatter(ylist, xlist)\n",
    "plt.plot(ylist, np.polyval(p,ylist),'red')\n",
    "plt.title(\"signal vs price\")\n",
    "plt.xlabel('signal')\n",
    "plt.ylabel('price')\n",
    "plt.show()\n",
    "\n",
    "# showing bestfit line's y-intercept and slope\n",
    "p"
   ]
  },
  {
   "cell_type": "markdown",
   "metadata": {},
   "source": [
    "## Long Short Term Memory (LSTM) Prediction using keras library\n",
    "\n",
    "Epochs:\n",
    "One Epoch is when an ENTIRE dataset is passed forward and backward through the neural network only ONCE.\n",
    "\n",
    "Batch Size:\n",
    "Total number of training examples present in a single batch.\n",
    "\n",
    "Iterations: the number of batches needed to complete one epoch.\n",
    "\n",
    "![Untitled%20Diagram.jpg](attachment:Untitled%20Diagram.jpg)![Neuron.JPG](attachment:Neuron.JPG)"
   ]
  },
  {
   "cell_type": "code",
   "execution_count": 18,
   "metadata": {},
   "outputs": [
    {
     "name": "stdout",
     "output_type": "stream",
     "text": [
      "(593, 7)\n",
      "(593,)\n",
      "0.029595358742747768\n",
      "0.029595358742747768\n"
     ]
    },
    {
     "data": {
      "text/plain": [
       "(593, 7, 1)"
      ]
     },
     "execution_count": 18,
     "metadata": {},
     "output_type": "execute_result"
    }
   ],
   "source": [
    "#Long Short Term Memory (LSTM)\n",
    "#source https://github.com/krishnaik06/Stock-Price-Prediction-using-Keras-and-Recurrent-Neural-Networ/blob/master/rnn.py\n",
    "from sklearn.preprocessing import MinMaxScaler\n",
    "from keras.models import Sequential\n",
    "from keras.layers import Dense, Dropout, LSTM\n",
    "\n",
    "# model values 0-600 tesing from 600-667\n",
    "training_set = newdf2.iloc[0:600,2:3]\n",
    "\n",
    "# Feature Scaling\n",
    "sc = MinMaxScaler(feature_range = (0, 1))\n",
    "training_set_scaled = sc.fit_transform(training_set)\n",
    "\n",
    "\n",
    "# Creating a data structure with n timesteps and 1 output\n",
    "X_train = []\n",
    "y_train = []\n",
    "for i in range(7, len(training_set_scaled)):\n",
    "    X_train.append(training_set_scaled[i-7:i, 0])\n",
    "    y_train.append(training_set_scaled[i, 0])\n",
    "X_train, y_train = np.array(X_train), np.array(y_train)\n",
    "\n",
    "print(X_train.shape)\n",
    "print(y_train.shape)\n",
    "print(X_train[7,0])\n",
    "print(y_train[0])\n",
    "\n",
    "# Reshaping\n",
    "X_train = np.reshape(X_train, (X_train.shape[0], X_train.shape[1], 1))\n",
    "\n",
    "X_train.shape"
   ]
  },
  {
   "cell_type": "code",
   "execution_count": 19,
   "metadata": {
    "scrolled": true
   },
   "outputs": [
    {
     "name": "stdout",
     "output_type": "stream",
     "text": [
      "Epoch 1/10\n",
      "593/593 [==============================] - 5s 9ms/step - loss: 0.1470\n",
      "Epoch 2/10\n",
      "593/593 [==============================] - 1s 2ms/step - loss: 0.0372\n",
      "Epoch 3/10\n",
      "593/593 [==============================] - 1s 2ms/step - loss: 0.0116\n",
      "Epoch 4/10\n",
      "593/593 [==============================] - 1s 2ms/step - loss: 0.0061\n",
      "Epoch 5/10\n",
      "593/593 [==============================] - 1s 2ms/step - loss: 0.0060\n",
      "Epoch 6/10\n",
      "593/593 [==============================] - 1s 2ms/step - loss: 0.0050\n",
      "Epoch 7/10\n",
      "593/593 [==============================] - 1s 2ms/step - loss: 0.0048\n",
      "Epoch 8/10\n",
      " 40/593 [=>............................] - ETA: 1s - loss: 0.0023"
     ]
    },
    {
     "name": "stderr",
     "output_type": "stream",
     "text": [
      "WARNING: Some output was deleted.\n"
     ]
    }
   ],
   "source": [
    "# Building the RNN\n",
    "\n",
    "# Initialising the RNN\n",
    "regressor = Sequential()\n",
    "\n",
    "# Adding the first LSTM layer and some Dropout regularisation\n",
    "regressor.add(LSTM(units = 50, return_sequences = True, input_shape = (X_train.shape[1], 1)))\n",
    "regressor.add(Dropout(0.2))\n",
    "\n",
    "# Adding a second LSTM layer and some Dropout regularisation\n",
    "regressor.add(LSTM(units = 50, return_sequences = True))\n",
    "regressor.add(Dropout(0.2))\n",
    "\n",
    "# Adding a third LSTM layer and some Dropout regularisation\n",
    "regressor.add(LSTM(units = 50, return_sequences = True))\n",
    "regressor.add(Dropout(0.2))\n",
    "\n",
    "# Adding a fourth LSTM layer and some Dropout regularisation\n",
    "regressor.add(LSTM(units = 50))\n",
    "regressor.add(Dropout(0.2))\n",
    "\n",
    "# Adding the output layer\n",
    "regressor.add(Dense(units = 1))\n",
    "\n",
    "# Compiling the RNN\n",
    "regressor.compile(optimizer = 'adam', loss = 'mean_squared_error')\n",
    "\n",
    "# Fitting the RNN to the Training set\n",
    "regressor.fit(X_train, y_train, epochs = 10, batch_size = 40)"
   ]
  },
  {
   "cell_type": "code",
   "execution_count": 25,
   "metadata": {},
   "outputs": [
    {
     "data": {
      "image/png": "[encoded data removed]",
      "text/plain": [
       "<matplotlib.figure.Figure at 0x7fa65deb76d8>"
      ]
     },
     "execution_count": 25,
     "metadata": {
      "image/png": {
       "height": 263,
       "width": 390
      }
     },
     "output_type": "execute_result"
    }
   ],
   "source": [
    "#Making the predictions and visualising the results\n",
    "\n",
    "dataset_test = newdf2.iloc[600:667,2:3]\n",
    "real_stock_price = newdf2.iloc[600:667,2:3].values\n",
    "\n",
    "dataset_total = newdf2.iloc[0:667,2:3]\n",
    "\n",
    "inputs = dataset_total[len(dataset_total) - len(dataset_test) - 7:].values\n",
    "inputs = inputs.reshape(-1,1)\n",
    "inputs = sc.transform(inputs)\n",
    "\n",
    "X_test = []\n",
    "\n",
    "for i in range(7, len(dataset_test)+7):\n",
    "    X_test.append(inputs[i-7:i, 0])\n",
    "X_test = np.array(X_test)\n",
    "X_test = np.reshape(X_test, (X_test.shape[0], X_test.shape[1], 1))\n",
    "predicted_stock_price = regressor.predict(X_test)\n",
    "\n",
    "# convert price back to actual price from (-1,1)\n",
    "predicted_stock_price = sc.inverse_transform(predicted_stock_price)\n",
    "\n",
    "plt.plot(real_stock_price, color = 'blue', label = 'Actual Price')\n",
    "plt.plot(predicted_stock_price, color = 'red', label = 'Predicted Price')\n",
    "plt.xlabel('Time')\n",
    "plt.ylabel('Price')\n",
    "plt.legend()\n",
    "plt.show()"
   ]
  },
  {
   "cell_type": "code",
   "execution_count": 26,
   "metadata": {
    "scrolled": true
   },
   "outputs": [
    {
     "name": "stdout",
     "output_type": "stream",
     "text": [
      "Predicted Price=[193.82947], Actual Price=[195.6], Difference=[-1.77053223]\n",
      "Predicted Price=[194.16609], Actual Price=[194.92], Difference=[-0.75390808]\n",
      "Predicted Price=[194.58133], Actual Price=[193.54], Difference=[1.04132935]\n",
      "Predicted Price=[195.16074], Actual Price=[194.13], Difference=[1.03073608]\n",
      "Predicted Price=[195.71117], Actual Price=[194.29], Difference=[1.42116638]\n",
      "Predicted Price=[195.88116], Actual Price=[194.83], Difference=[1.05116455]\n",
      "Predicted Price=[195.7097], Actual Price=[196.255], Difference=[-0.54529846]\n",
      "Predicted Price=[195.41522], Actual Price=[196.48], Difference=[-1.06477783]\n",
      "Predicted Price=[195.09009], Actual Price=[195.94], Difference=[-0.84991211]\n",
      "Predicted Price=[195.01793], Actual Price=[195.88], Difference=[-0.86207092]\n",
      "Predicted Price=[195.49774], Actual Price=[194.7], Difference=[0.7977417]\n",
      "Predicted Price=[195.90775], Actual Price=[195.58], Difference=[0.32774536]\n",
      "Predicted Price=[196.35179], Actual Price=[195.44], Difference=[0.91179138]\n",
      "Predicted Price=[196.66754], Actual Price=[195.82], Difference=[0.8475415]\n",
      "Predicted Price=[196.51254], Actual Price=[195.72], Difference=[0.79254272]\n",
      "Predicted Price=[196.23434], Actual Price=[197.03], Difference=[-0.79565552]\n",
      "Predicted Price=[196.10864], Actual Price=[197.23], Difference=[-1.12135742]\n",
      "Predicted Price=[196.0278], Actual Price=[198.2], Difference=[-2.17219849]\n",
      "Predicted Price=[196.41417], Actual Price=[197.51], Difference=[-1.09583069]\n",
      "Predicted Price=[196.6392], Actual Price=[196.24], Difference=[0.39920593]\n",
      "Predicted Price=[197.01666], Actual Price=[197.12], Difference=[-0.1033374]\n",
      "Predicted Price=[197.37128], Actual Price=[196.34], Difference=[1.03127686]\n",
      "Predicted Price=[197.82674], Actual Price=[196.61], Difference=[1.21673645]\n",
      "Predicted Price=[197.88231], Actual Price=[197.6], Difference=[0.28230896]\n",
      "Predicted Price=[197.8457], Actual Price=[197.23], Difference=[0.61570313]\n",
      "Predicted Price=[197.45085], Actual Price=[197.96], Difference=[-0.50914856]\n",
      "Predicted Price=[197.24391], Actual Price=[195.71], Difference=[1.53391174]\n",
      "Predicted Price=[197.45816], Actual Price=[197.7099], Difference=[-0.2517396]\n",
      "Predicted Price=[197.42339], Actual Price=[197.34], Difference=[0.08338562]\n",
      "Predicted Price=[197.66458], Actual Price=[198.2], Difference=[-0.5354187]\n",
      "Predicted Price=[197.86147], Actual Price=[198.64], Difference=[-0.77853455]\n",
      "Predicted Price=[197.76964], Actual Price=[198.65], Difference=[-0.88036194]\n",
      "Predicted Price=[197.82959], Actual Price=[197.72], Difference=[0.10958984]\n",
      "Predicted Price=[197.70428], Actual Price=[197.8], Difference=[-0.09571533]\n",
      "Predicted Price=[198.37566], Actual Price=[196.95], Difference=[1.42565613]\n",
      "Predicted Price=[198.48253], Actual Price=[196.98], Difference=[1.50252869]\n",
      "Predicted Price=[198.70981], Actual Price=[193.09], Difference=[5.61980835]\n",
      "Predicted Price=[198.59694], Actual Price=[192.5], Difference=[6.09693909]\n",
      "Predicted Price=[198.17276], Actual Price=[193.89], Difference=[4.28276001]\n",
      "Predicted Price=[197.5044], Actual Price=[192.01], Difference=[5.49439453]\n",
      "Predicted Price=[196.85497], Actual Price=[192.07], Difference=[4.78496521]\n",
      "Predicted Price=[195.88084], Actual Price=[191.03], Difference=[4.85084412]\n",
      "Predicted Price=[194.87166], Actual Price=[193.24], Difference=[1.63165833]\n",
      "Predicted Price=[193.5811], Actual Price=[193.795], Difference=[-0.21389954]\n",
      "Predicted Price=[193.41109], Actual Price=[193.53], Difference=[-0.11891296]\n",
      "Predicted Price=[193.4236], Actual Price=[194.84], Difference=[-1.41640076]\n",
      "Predicted Price=[192.99803], Actual Price=[195.76], Difference=[-2.76196838]\n",
      "Predicted Price=[193.26588], Actual Price=[195.72], Difference=[-2.4541156]\n",
      "Predicted Price=[193.68398], Actual Price=[197.36], Difference=[-3.67602478]\n",
      "Predicted Price=[194.66629], Actual Price=[198.39], Difference=[-3.72370972]\n",
      "Predicted Price=[195.1725], Actual Price=[198.92], Difference=[-3.74749939]\n",
      "Predicted Price=[195.7199], Actual Price=[199.5], Difference=[-3.78010559]\n",
      "Predicted Price=[196.60626], Actual Price=[199.19], Difference=[-2.58373779]\n",
      "Predicted Price=[197.32977], Actual Price=[200.2], Difference=[-2.87022705]\n",
      "Predicted Price=[197.98894], Actual Price=[200.33], Difference=[-2.34106262]\n",
      "Predicted Price=[198.87978], Actual Price=[200.25], Difference=[-1.370224]\n",
      "Predicted Price=[199.43729], Actual Price=[200.14], Difference=[-0.70271362]\n",
      "Predicted Price=[199.79356], Actual Price=[200.71], Difference=[-0.91643616]\n"
     ]
    }
   ],
   "source": [
    "for i in range(len(predicted_stock_price)):\n",
    "    print(\"Predicted Price=%s, Actual Price=%s, Difference=%s\" % (predicted_stock_price[i], real_stock_price[i],predicted_stock_price[i]-real_stock_price[i]))"
   ]
  },
  {
   "cell_type": "markdown",
   "metadata": {},
   "source": [
    "## Using the Linear Regression model to predict the price with the signals and the dates as inputs."
   ]
  },
  {
   "cell_type": "code",
   "execution_count": 27,
   "metadata": {},
   "outputs": [
    {
     "data": {
      "image/png": "[encoded data removed]",
      "text/plain": [
       "<matplotlib.figure.Figure at 0x7fa65de057b8>"
      ]
     },
     "execution_count": 27,
     "metadata": {
      "image/png": {
       "height": 263,
       "width": 391
      }
     },
     "output_type": "execute_result"
    },
    {
     "name": "stdout",
     "output_type": "stream",
     "text": [
      "R-squared = : 0.99\n"
     ]
    }
   ],
   "source": [
    "from sklearn.model_selection import cross_val_predict\n",
    "from sklearn import linear_model\n",
    "import matplotlib.pyplot as plt\n",
    "from sklearn.metrics import mean_squared_error, r2_score\n",
    "\n",
    "# creates the linear regression model\n",
    "lr = linear_model.LinearRegression()\n",
    "\n",
    "# model values\n",
    "X = newdf2.iloc[0:667,1:2]\n",
    "y = newdf2.iloc[0:667,2:3]\n",
    "\n",
    "# cross_val_predict returns an array of the same size as `y` where each entry\n",
    "# is a prediction obtained by cross validation:\n",
    "predicted = cross_val_predict(lr, X, y, cv=10)\n",
    "\n",
    "fig, ax = plt.subplots()\n",
    "ax.scatter(y, predicted, edgecolors=(0, 0, 0))\n",
    "ax.plot([y.min(), y.max()], [y.min(), y.max()], 'k--', lw=4)\n",
    "ax.set_xlabel('Measured')\n",
    "ax.set_ylabel('Predicted')\n",
    "\n",
    "plt.show()\n",
    "\n",
    "# R-squared: \n",
    "print('R-squared = : %.2f' % r2_score(y, predicted))"
   ]
  },
  {
   "cell_type": "code",
   "execution_count": 28,
   "metadata": {
    "scrolled": true
   },
   "outputs": [
    {
     "name": "stdout",
     "output_type": "stream",
     "text": [
      "InputSignal=[4.72888349], PredictedPrice=[193.96942927], ActualPrice=195.6, Difference=[-1.63057073]\n",
      "InputSignal=[4.76347087], PredictedPrice=[195.37410992], ActualPrice=194.92, Difference=[0.45410992]\n",
      "InputSignal=[4.76893204], PredictedPrice=[195.5959016], ActualPrice=193.54, Difference=[2.0559016]\n",
      "InputSignal=[4.75582524], PredictedPrice=[195.06360158], ActualPrice=194.13, Difference=[0.93360158]\n",
      "InputSignal=[4.75436893], PredictedPrice=[195.00445711], ActualPrice=194.29, Difference=[0.71445711]\n",
      "InputSignal=[4.72572815], PredictedPrice=[193.84128296], ActualPrice=194.83, Difference=[-0.98871704]\n",
      "InputSignal=[4.74708738], PredictedPrice=[194.70873489], ActualPrice=196.255, Difference=[-1.54626511]\n",
      "InputSignal=[4.74368932], PredictedPrice=[194.57073115], ActualPrice=196.48, Difference=[-1.90926885]\n",
      "InputSignal=[4.75291262], PredictedPrice=[194.94531265], ActualPrice=195.94, Difference=[-0.99468735]\n",
      "InputSignal=[4.75048544], PredictedPrice=[194.84673859], ActualPrice=195.88, Difference=[-1.03326141]\n",
      "InputSignal=[4.78228155], PredictedPrice=[196.13805901], ActualPrice=194.7, Difference=[1.43805901]\n",
      "InputSignal=[4.78713592], PredictedPrice=[196.33520718], ActualPrice=195.58, Difference=[0.75520718]\n",
      "InputSignal=[4.81067961], PredictedPrice=[197.29137578], ActualPrice=195.44, Difference=[1.85137578]\n",
      "InputSignal=[4.79393204], PredictedPrice=[196.61121462], ActualPrice=195.82, Difference=[0.79121462]\n",
      "InputSignal=[4.78446602], PredictedPrice=[196.22677569], ActualPrice=195.72, Difference=[0.50677569]\n",
      "InputSignal=[4.77208738], PredictedPrice=[195.72404791], ActualPrice=197.03, Difference=[-1.30595209]\n",
      "InputSignal=[4.76553398], PredictedPrice=[195.4578979], ActualPrice=197.23, Difference=[-1.7721021]\n",
      "InputSignal=[4.7631068], PredictedPrice=[195.3593238], ActualPrice=198.2, Difference=[-2.8406762]\n",
      "InputSignal=[4.7961165], PredictedPrice=[196.69993129], ActualPrice=197.51, Difference=[-0.81006871]\n",
      "InputSignal=[4.78713592], PredictedPrice=[196.33520718], ActualPrice=196.24, Difference=[0.09520718]\n",
      "InputSignal=[4.80485437], PredictedPrice=[197.05479797], ActualPrice=197.12, Difference=[-0.06520203]\n",
      "InputSignal=[4.75024272], PredictedPrice=[194.83688116], ActualPrice=196.34, Difference=[-1.50311884]\n",
      "InputSignal=[4.79878398], PredictedPrice=[196.80826421], ActualPrice=196.61, Difference=[0.19826421]\n",
      "InputSignal=[4.78980583], PredictedPrice=[196.44363867], ActualPrice=197.6, Difference=[-1.15636133]\n",
      "InputSignal=[4.81067961], PredictedPrice=[197.29137578], ActualPrice=197.23, Difference=[0.06137578]\n",
      "InputSignal=[4.82135922], PredictedPrice=[197.7251017], ActualPrice=197.96, Difference=[-0.2348983]\n",
      "InputSignal=[4.82160194], PredictedPrice=[197.73495913], ActualPrice=195.71, Difference=[2.02495913]\n",
      "InputSignal=[4.79902913], PredictedPrice=[196.81822017], ActualPrice=197.7099, Difference=[-0.89167983]\n",
      "InputSignal=[4.80097087], PredictedPrice=[196.89707945], ActualPrice=197.34, Difference=[-0.44292055]\n",
      "InputSignal=[4.78033981], PredictedPrice=[196.05919977], ActualPrice=198.2, Difference=[-2.14080023]\n",
      "InputSignal=[4.78106796], PredictedPrice=[196.08877198], ActualPrice=198.64, Difference=[-2.55122802]\n",
      "InputSignal=[4.68665049], PredictedPrice=[192.25424028], ActualPrice=198.65, Difference=[-6.39575972]\n",
      "InputSignal=[4.6723301], PredictedPrice=[191.67265322], ActualPrice=197.72, Difference=[-6.04734678]\n",
      "InputSignal=[4.70606796], PredictedPrice=[193.04283293], ActualPrice=197.8, Difference=[-4.75716707]\n",
      "InputSignal=[4.66043689], PredictedPrice=[191.18964023], ActualPrice=196.95, Difference=[-5.76035977]\n",
      "InputSignal=[4.6618932], PredictedPrice=[191.24878469], ActualPrice=196.98, Difference=[-5.73121531]\n",
      "InputSignal=[4.63665048], PredictedPrice=[190.22361424], ActualPrice=193.09, Difference=[-2.86638576]\n",
      "InputSignal=[4.70376214], PredictedPrice=[192.94918756], ActualPrice=192.5, Difference=[0.44918756]\n",
      "InputSignal=[4.6973301], PredictedPrice=[192.68796624], ActualPrice=193.89, Difference=[-1.20203376]\n",
      "InputSignal=[4.69029126], PredictedPrice=[192.40210141], ActualPrice=192.01, Difference=[0.39210141]\n",
      "InputSignal=[4.72912621], PredictedPrice=[193.97928671], ActualPrice=192.07, Difference=[1.90928671]\n",
      "InputSignal=[4.75145631], PredictedPrice=[194.88616823], ActualPrice=191.03, Difference=[3.85616823]\n",
      "InputSignal=[4.75048544], PredictedPrice=[194.84673859], ActualPrice=193.24, Difference=[1.60673859]\n",
      "InputSignal=[4.79029126], PredictedPrice=[196.46335349], ActualPrice=193.795, Difference=[2.66835349]\n",
      "InputSignal=[4.81529126], PredictedPrice=[197.47866651], ActualPrice=193.53, Difference=[3.94866651]\n",
      "InputSignal=[4.82815534], PredictedPrice=[198.00110914], ActualPrice=194.84, Difference=[3.16110914]\n",
      "InputSignal=[4.84223301], PredictedPrice=[198.57283881], ActualPrice=195.76, Difference=[2.81283881]\n",
      "InputSignal=[4.83470874], PredictedPrice=[198.26725915], ActualPrice=195.72, Difference=[2.54725915]\n",
      "InputSignal=[4.8592233], PredictedPrice=[199.26285735], ActualPrice=197.36, Difference=[1.90285735]\n",
      "InputSignal=[4.86237864], PredictedPrice=[199.39100366], ActualPrice=198.39, Difference=[1.00100366]\n",
      "InputSignal=[4.86043689], PredictedPrice=[199.31214438], ActualPrice=198.92, Difference=[0.39214438]\n",
      "InputSignal=[4.85776699], PredictedPrice=[199.20371289], ActualPrice=199.5, Difference=[-0.29628711]\n",
      "InputSignal=[4.87160194], PredictedPrice=[199.76558517], ActualPrice=199.19, Difference=[0.57558517]\n",
      "InputSignal=[4.86917476], PredictedPrice=[199.66701107], ActualPrice=200.2, Difference=[-0.53298893]\n",
      "InputSignal=[4.86650485], PredictedPrice=[199.55857958], ActualPrice=200.33, Difference=[-0.77142042]\n",
      "InputSignal=[4.85946845], PredictedPrice=[199.27281335], ActualPrice=200.25, Difference=[-0.97718665]\n",
      "InputSignal=[4.88131068], PredictedPrice=[200.15988149], ActualPrice=200.14, Difference=[0.01988149]\n",
      "InputSignal=[4.86868932], PredictedPrice=[199.64729625], ActualPrice=200.71, Difference=[-1.06270375]\n"
     ]
    }
   ],
   "source": [
    "# source: https://machinelearningmastery.com/make-predictions-scikit-learn/\n",
    "from sklearn.model_selection import train_test_split\n",
    "from sklearn.linear_model import LinearRegression\n",
    "from sklearn.datasets import make_regression\n",
    "\n",
    "# testing values\n",
    "# last 67 values from the newdate and the signal for Testing\n",
    "x = newdf2.iloc[600:667,0:2]\n",
    "\n",
    "# generate 2 list and append values from newdate and signal to the list\n",
    "#xdate = x['newdate'].values\n",
    "xsignal = x['signal'].values\n",
    "\n",
    "# combine the two above list into one\n",
    "newsig = np.array(list(xsignal))\n",
    "\n",
    "newX = np.reshape(newsig,(58,1))\n",
    "\n",
    "# model values\n",
    "# first 600 values from signal and newdate to train the model\n",
    "X = newdf2.iloc[0:600,1:2]#signal\n",
    "y = newdf2.iloc[0:600,2:3]#price\n",
    "\n",
    "# generate the last 67 actual values for graph\n",
    "actual = newdf2.iloc[600:667,0:3]\n",
    "\n",
    "actual_date = actual['newdate']\n",
    "actual_price = actual['spy_close_price']\n",
    "\n",
    "actualprice = actual_price.values\n",
    "\n",
    "# create a linear regression model\n",
    "model = LinearRegression()\n",
    "\n",
    "# fit the model with the model values\n",
    "model.fit(X, y)#fit train data\n",
    "\n",
    "# generate resultes using the testing values\n",
    "ynew = model.predict(newX)\n",
    "\n",
    "\n",
    "# print out each every prediction and append to the list\n",
    "predicted_y = list()\n",
    "\n",
    "for i in range(len(newX)):\n",
    "    print(\"InputSignal=%s, PredictedPrice=%s, ActualPrice=%s, Difference=%s\" % (newX[i], ynew[i], actualprice[i],ynew[i]-actualprice[i]))\n",
    "    predicted_y.append(ynew[i])"
   ]
  },
  {
   "cell_type": "code",
   "execution_count": 29,
   "metadata": {
    "scrolled": true
   },
   "outputs": [
    {
     "data": {
      "image/png": "[encoded data removed]",
      "text/plain": [
       "<matplotlib.figure.Figure at 0x7fa6a85bcc18>"
      ]
     },
     "execution_count": 29,
     "metadata": {
      "image/png": {
       "height": 277,
       "width": 390
      }
     },
     "output_type": "execute_result"
    }
   ],
   "source": [
    "# plot both actual and predited prices vs dates\n",
    "plt.plot(actual_date, actual_price, color = 'blue')\n",
    "plt.plot(actual_date, predicted_y, color = 'red')\n",
    "plt.title(\"date vs price\")\n",
    "plt.ylabel('price')\n",
    "plt.xlabel('date')\n",
    "plt.gca().legend(('actual','predicted'))\n",
    "plt.show()"
   ]
  },
  {
   "cell_type": "code",
   "execution_count": 0,
   "metadata": {},
   "outputs": [],
   "source": []
  },
  {
   "cell_type": "code",
   "execution_count": 0,
   "metadata": {},
   "outputs": [],
   "source": []
  }
 ],
 "metadata": {
  "kernelspec": {
   "display_name": "Python 3",
   "language": "python",
   "name": "python3"
  },
  "language_info": {
   "codemirror_mode": {
    "name": "ipython",
    "version": 3
   },
   "file_extension": ".py",
   "mimetype": "text/x-python",
   "name": "python",
   "nbconvert_exporter": "python",
   "pygments_lexer": "ipython3",
   "version": "3.7.6"
  }
 },
 "nbformat": 4,
 "nbformat_minor": 1
}
